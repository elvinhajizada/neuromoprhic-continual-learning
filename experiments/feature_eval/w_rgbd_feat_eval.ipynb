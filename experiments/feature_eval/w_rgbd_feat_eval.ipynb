{
 "cells": [
  {
   "cell_type": "code",
   "execution_count": 1,
   "id": "50ac3f31-85d2-43a4-9207-d337a8b48163",
   "metadata": {},
   "outputs": [],
   "source": [
    "%matplotlib widget\n",
    "import os, re\n",
    "os.environ['CUDA_LAUNCH_BLOCKING'] = \"1\"\n",
    "\n",
    "import torch\n",
    "from torch import nn\n",
    "import torchvision\n",
    "import torchvision.transforms as transforms\n",
    "from torch.utils.data import Dataset, DataLoader, random_split\n",
    "from torchvision.utils import make_grid\n",
    "import torch.nn.functional as F\n",
    "import copy\n",
    "\n",
    "import lightly\n",
    "\n",
    "from matplotlib import pyplot as plt\n",
    "import numpy as np\n",
    "from sklearn.metrics.pairwise import cosine_similarity\n",
    "from sklearn import metrics\n",
    "from sklearn.pipeline import make_pipeline\n",
    "from sklearn.preprocessing import StandardScaler\n",
    "from sklearn import svm\n",
    "from sklearn.neighbors import KNeighborsClassifier\n",
    "from sklearn.utils import shuffle\n",
    "from sklearn.model_selection import train_test_split\n",
    "\n",
    "import pandas as pd\n",
    "from PIL import Image\n",
    "import cv2\n",
    "from sklearn.manifold import TSNE\n",
    "\n",
    "import datasets\n",
    "from datasets.wrgbd import WRGBD\n",
    "import importlib\n",
    "\n",
    "import ssl\n",
    "ssl._create_default_https_context = ssl._create_unverified_context"
   ]
  },
  {
   "cell_type": "code",
   "execution_count": 2,
   "id": "8c3b1d29-c179-4e50-b93d-627ee84e66c2",
   "metadata": {},
   "outputs": [],
   "source": [
    "root_dir = '/home/ehajizad/ss_learning/neuromorphic-continual-learning'\n",
    "device = \"cuda\" if torch.cuda.is_available() else \"cpu\""
   ]
  },
  {
   "cell_type": "code",
   "execution_count": 3,
   "id": "3c6177f9-6ecd-4bc1-a9c6-6f53ea9e0427",
   "metadata": {},
   "outputs": [
    {
     "name": "stdout",
     "output_type": "stream",
     "text": [
      "Model loeaded\n"
     ]
    }
   ],
   "source": [
    "##--------------------------------------------------------------------------------\n",
    "## VGG-16, off-the-shelf, trained on ImageNet\n",
    "vgg16 = torchvision.models.vgg16(weights='IMAGENET1K_V1')\n",
    "# model = nn.Sequential(*list(vgg16.children())[:2], nn.Flatten(), *list(vgg16.children())[2][:2] )\n",
    "feat_ext = vgg16.features\n",
    "\n",
    "##--------------------------------------------------------------------------------\n",
    "## ResNet-18, off-the-shelf, trained on ImageNet\n",
    "feat_ext = torchvision.models.resnet18(weights='IMAGENET1K_V1')\n",
    "feat_ext = nn.Sequential(*(list(feat_ext.children())[:-1]))\n",
    "\n",
    "##--------------------------------------------------------------------------------\n",
    "## Our on self-supervised trained models with ResNet-9 backbone\n",
    "# resnet = lightly.models.ResNetGenerator('resnet-9')\n",
    "# feat_ext = nn.Sequential(*list(resnet.children())[:-1],\n",
    "#                          nn.AdaptiveAvgPool2d(2))\n",
    "\n",
    "# feat_ext.load_state_dict(torch.load(\n",
    "#         root_dir+\"/models/\"+model_name+\".pth\",\n",
    "#         map_location=device))\n",
    "\n",
    "feat_ext = feat_ext.to(device)\n",
    "feat_ext.eval()\n",
    "print(\"Model loeaded\")"
   ]
  },
  {
   "cell_type": "code",
   "execution_count": 4,
   "id": "dbeabbd3-81e2-4078-b67b-569da579ed0e",
   "metadata": {},
   "outputs": [
    {
     "data": {
      "text/plain": [
       "==========================================================================================\n",
       "Layer (type:depth-idx)                   Output Shape              Param #\n",
       "==========================================================================================\n",
       "Sequential                               [1, 512, 1, 1]            --\n",
       "├─Conv2d: 1-1                            [1, 64, 64, 64]           9,408\n",
       "├─BatchNorm2d: 1-2                       [1, 64, 64, 64]           128\n",
       "├─ReLU: 1-3                              [1, 64, 64, 64]           --\n",
       "├─MaxPool2d: 1-4                         [1, 64, 32, 32]           --\n",
       "├─Sequential: 1-5                        [1, 64, 32, 32]           --\n",
       "│    └─BasicBlock: 2-1                   [1, 64, 32, 32]           --\n",
       "│    │    └─Conv2d: 3-1                  [1, 64, 32, 32]           36,864\n",
       "│    │    └─BatchNorm2d: 3-2             [1, 64, 32, 32]           128\n",
       "│    │    └─ReLU: 3-3                    [1, 64, 32, 32]           --\n",
       "│    │    └─Conv2d: 3-4                  [1, 64, 32, 32]           36,864\n",
       "│    │    └─BatchNorm2d: 3-5             [1, 64, 32, 32]           128\n",
       "│    │    └─ReLU: 3-6                    [1, 64, 32, 32]           --\n",
       "│    └─BasicBlock: 2-2                   [1, 64, 32, 32]           --\n",
       "│    │    └─Conv2d: 3-7                  [1, 64, 32, 32]           36,864\n",
       "│    │    └─BatchNorm2d: 3-8             [1, 64, 32, 32]           128\n",
       "│    │    └─ReLU: 3-9                    [1, 64, 32, 32]           --\n",
       "│    │    └─Conv2d: 3-10                 [1, 64, 32, 32]           36,864\n",
       "│    │    └─BatchNorm2d: 3-11            [1, 64, 32, 32]           128\n",
       "│    │    └─ReLU: 3-12                   [1, 64, 32, 32]           --\n",
       "├─Sequential: 1-6                        [1, 128, 16, 16]          --\n",
       "│    └─BasicBlock: 2-3                   [1, 128, 16, 16]          --\n",
       "│    │    └─Conv2d: 3-13                 [1, 128, 16, 16]          73,728\n",
       "│    │    └─BatchNorm2d: 3-14            [1, 128, 16, 16]          256\n",
       "│    │    └─ReLU: 3-15                   [1, 128, 16, 16]          --\n",
       "│    │    └─Conv2d: 3-16                 [1, 128, 16, 16]          147,456\n",
       "│    │    └─BatchNorm2d: 3-17            [1, 128, 16, 16]          256\n",
       "│    │    └─Sequential: 3-18             [1, 128, 16, 16]          8,448\n",
       "│    │    └─ReLU: 3-19                   [1, 128, 16, 16]          --\n",
       "│    └─BasicBlock: 2-4                   [1, 128, 16, 16]          --\n",
       "│    │    └─Conv2d: 3-20                 [1, 128, 16, 16]          147,456\n",
       "│    │    └─BatchNorm2d: 3-21            [1, 128, 16, 16]          256\n",
       "│    │    └─ReLU: 3-22                   [1, 128, 16, 16]          --\n",
       "│    │    └─Conv2d: 3-23                 [1, 128, 16, 16]          147,456\n",
       "│    │    └─BatchNorm2d: 3-24            [1, 128, 16, 16]          256\n",
       "│    │    └─ReLU: 3-25                   [1, 128, 16, 16]          --\n",
       "├─Sequential: 1-7                        [1, 256, 8, 8]            --\n",
       "│    └─BasicBlock: 2-5                   [1, 256, 8, 8]            --\n",
       "│    │    └─Conv2d: 3-26                 [1, 256, 8, 8]            294,912\n",
       "│    │    └─BatchNorm2d: 3-27            [1, 256, 8, 8]            512\n",
       "│    │    └─ReLU: 3-28                   [1, 256, 8, 8]            --\n",
       "│    │    └─Conv2d: 3-29                 [1, 256, 8, 8]            589,824\n",
       "│    │    └─BatchNorm2d: 3-30            [1, 256, 8, 8]            512\n",
       "│    │    └─Sequential: 3-31             [1, 256, 8, 8]            33,280\n",
       "│    │    └─ReLU: 3-32                   [1, 256, 8, 8]            --\n",
       "│    └─BasicBlock: 2-6                   [1, 256, 8, 8]            --\n",
       "│    │    └─Conv2d: 3-33                 [1, 256, 8, 8]            589,824\n",
       "│    │    └─BatchNorm2d: 3-34            [1, 256, 8, 8]            512\n",
       "│    │    └─ReLU: 3-35                   [1, 256, 8, 8]            --\n",
       "│    │    └─Conv2d: 3-36                 [1, 256, 8, 8]            589,824\n",
       "│    │    └─BatchNorm2d: 3-37            [1, 256, 8, 8]            512\n",
       "│    │    └─ReLU: 3-38                   [1, 256, 8, 8]            --\n",
       "├─Sequential: 1-8                        [1, 512, 4, 4]            --\n",
       "│    └─BasicBlock: 2-7                   [1, 512, 4, 4]            --\n",
       "│    │    └─Conv2d: 3-39                 [1, 512, 4, 4]            1,179,648\n",
       "│    │    └─BatchNorm2d: 3-40            [1, 512, 4, 4]            1,024\n",
       "│    │    └─ReLU: 3-41                   [1, 512, 4, 4]            --\n",
       "│    │    └─Conv2d: 3-42                 [1, 512, 4, 4]            2,359,296\n",
       "│    │    └─BatchNorm2d: 3-43            [1, 512, 4, 4]            1,024\n",
       "│    │    └─Sequential: 3-44             [1, 512, 4, 4]            132,096\n",
       "│    │    └─ReLU: 3-45                   [1, 512, 4, 4]            --\n",
       "│    └─BasicBlock: 2-8                   [1, 512, 4, 4]            --\n",
       "│    │    └─Conv2d: 3-46                 [1, 512, 4, 4]            2,359,296\n",
       "│    │    └─BatchNorm2d: 3-47            [1, 512, 4, 4]            1,024\n",
       "│    │    └─ReLU: 3-48                   [1, 512, 4, 4]            --\n",
       "│    │    └─Conv2d: 3-49                 [1, 512, 4, 4]            2,359,296\n",
       "│    │    └─BatchNorm2d: 3-50            [1, 512, 4, 4]            1,024\n",
       "│    │    └─ReLU: 3-51                   [1, 512, 4, 4]            --\n",
       "├─AdaptiveAvgPool2d: 1-9                 [1, 512, 1, 1]            --\n",
       "==========================================================================================\n",
       "Total params: 11,176,512\n",
       "Trainable params: 11,176,512\n",
       "Non-trainable params: 0\n",
       "Total mult-adds (M): 592.19\n",
       "==========================================================================================\n",
       "Input size (MB): 0.20\n",
       "Forward/backward pass size (MB): 12.98\n",
       "Params size (MB): 44.71\n",
       "Estimated Total Size (MB): 57.88\n",
       "=========================================================================================="
      ]
     },
     "execution_count": 4,
     "metadata": {},
     "output_type": "execute_result"
    }
   ],
   "source": [
    "from torchvision import models\n",
    "from torchinfo import summary\n",
    "# conv_feat_ext = feat_ext\n",
    "# conv_feat_ext = nn.Sequential(*list(feat_ext.children())[:-2],nn.AdaptiveAvgPool2d(1))\n",
    "\n",
    "# conv_feat_ext = nn.Sequential(*list(feat_ext.children())[:2],*list(feat_ext.children())[:-2][2][:-6])\n",
    "#, *list(feat_ext.children())[2][:2]\n",
    "# conv_feat_ext = nn.Sequential(*list(feat_ext.children())[:2], nn.Flatten(), *list(feat_ext.children())[2][:2] )\n",
    "summary(feat_ext, (1,3, 128, 128))"
   ]
  },
  {
   "cell_type": "code",
   "execution_count": 5,
   "id": "38edb157-e6f4-4720-ac70-9873231ba7f3",
   "metadata": {},
   "outputs": [],
   "source": [
    "importlib.reload(datasets.wrgbd)\n",
    "from datasets.wrgbd import WRGBD\n",
    "from datasets.utils import SquarePad\n",
    "\n",
    "\n",
    "# Dataset transform\n",
    "transform=transforms.Compose([\n",
    "    SquarePad(global_max_wh=160),\n",
    "    transforms.Resize((128,128)),\n",
    "    transforms.ToTensor()\n",
    "])"
   ]
  },
  {
   "cell_type": "code",
   "execution_count": 10,
   "id": "2cc2f3b7-fca5-405e-b43e-65d114f6cf99",
   "metadata": {
    "scrolled": true,
    "tags": []
   },
   "outputs": [
    {
     "name": "stdout",
     "output_type": "stream",
     "text": [
      "All target lists are created\n",
      "All target lists are created\n"
     ]
    },
    {
     "name": "stderr",
     "output_type": "stream",
     "text": [
      "/home/ehajizad/ss_learning/ssl_env/lib/python3.8/site-packages/sklearn/svm/_base.py:1225: ConvergenceWarning: Liblinear failed to converge, increase the number of iterations.\n",
      "  warnings.warn(\n"
     ]
    },
    {
     "name": "stdout",
     "output_type": "stream",
     "text": [
      "Test Accuracy: 0.785622040464916\n",
      "All target lists are created\n",
      "All target lists are created\n"
     ]
    },
    {
     "name": "stderr",
     "output_type": "stream",
     "text": [
      "/home/ehajizad/ss_learning/ssl_env/lib/python3.8/site-packages/sklearn/svm/_base.py:1225: ConvergenceWarning: Liblinear failed to converge, increase the number of iterations.\n",
      "  warnings.warn(\n"
     ]
    },
    {
     "name": "stdout",
     "output_type": "stream",
     "text": [
      "Test Accuracy: 0.7771535580524345\n",
      "All target lists are created\n",
      "All target lists are created\n"
     ]
    },
    {
     "name": "stderr",
     "output_type": "stream",
     "text": [
      "/home/ehajizad/ss_learning/ssl_env/lib/python3.8/site-packages/sklearn/svm/_base.py:1225: ConvergenceWarning: Liblinear failed to converge, increase the number of iterations.\n",
      "  warnings.warn(\n"
     ]
    },
    {
     "name": "stdout",
     "output_type": "stream",
     "text": [
      "Test Accuracy: 0.7788930312589618\n",
      "All target lists are created\n",
      "All target lists are created\n"
     ]
    },
    {
     "name": "stderr",
     "output_type": "stream",
     "text": [
      "/home/ehajizad/ss_learning/ssl_env/lib/python3.8/site-packages/sklearn/svm/_base.py:1225: ConvergenceWarning: Liblinear failed to converge, increase the number of iterations.\n",
      "  warnings.warn(\n"
     ]
    },
    {
     "name": "stdout",
     "output_type": "stream",
     "text": [
      "Test Accuracy: 0.7883710987601539\n",
      "All target lists are created\n",
      "All target lists are created\n"
     ]
    },
    {
     "name": "stderr",
     "output_type": "stream",
     "text": [
      "/home/ehajizad/ss_learning/ssl_env/lib/python3.8/site-packages/sklearn/svm/_base.py:1225: ConvergenceWarning: Liblinear failed to converge, increase the number of iterations.\n",
      "  warnings.warn(\n"
     ]
    },
    {
     "name": "stdout",
     "output_type": "stream",
     "text": [
      "Test Accuracy: 0.7812990720913633\n",
      "All target lists are created\n",
      "All target lists are created\n"
     ]
    },
    {
     "name": "stderr",
     "output_type": "stream",
     "text": [
      "/home/ehajizad/ss_learning/ssl_env/lib/python3.8/site-packages/sklearn/svm/_base.py:1225: ConvergenceWarning: Liblinear failed to converge, increase the number of iterations.\n",
      "  warnings.warn(\n"
     ]
    },
    {
     "name": "stdout",
     "output_type": "stream",
     "text": [
      "Test Accuracy: 0.8238026124818577\n",
      "All target lists are created\n",
      "All target lists are created\n"
     ]
    },
    {
     "name": "stderr",
     "output_type": "stream",
     "text": [
      "/home/ehajizad/ss_learning/ssl_env/lib/python3.8/site-packages/sklearn/svm/_base.py:1225: ConvergenceWarning: Liblinear failed to converge, increase the number of iterations.\n",
      "  warnings.warn(\n"
     ]
    },
    {
     "name": "stdout",
     "output_type": "stream",
     "text": [
      "Test Accuracy: 0.8030411705637641\n",
      "All target lists are created\n",
      "All target lists are created\n"
     ]
    },
    {
     "name": "stderr",
     "output_type": "stream",
     "text": [
      "/home/ehajizad/ss_learning/ssl_env/lib/python3.8/site-packages/sklearn/svm/_base.py:1225: ConvergenceWarning: Liblinear failed to converge, increase the number of iterations.\n",
      "  warnings.warn(\n"
     ]
    },
    {
     "name": "stdout",
     "output_type": "stream",
     "text": [
      "Test Accuracy: 0.7968524400808548\n",
      "All target lists are created\n",
      "All target lists are created\n"
     ]
    },
    {
     "name": "stderr",
     "output_type": "stream",
     "text": [
      "/home/ehajizad/ss_learning/ssl_env/lib/python3.8/site-packages/sklearn/svm/_base.py:1225: ConvergenceWarning: Liblinear failed to converge, increase the number of iterations.\n",
      "  warnings.warn(\n"
     ]
    },
    {
     "name": "stdout",
     "output_type": "stream",
     "text": [
      "Test Accuracy: 0.8145667046750285\n",
      "All target lists are created\n",
      "All target lists are created\n",
      "Test Accuracy: 0.7800143781452192\n"
     ]
    },
    {
     "name": "stderr",
     "output_type": "stream",
     "text": [
      "/home/ehajizad/ss_learning/ssl_env/lib/python3.8/site-packages/sklearn/svm/_base.py:1225: ConvergenceWarning: Liblinear failed to converge, increase the number of iterations.\n",
      "  warnings.warn(\n"
     ]
    }
   ],
   "source": [
    "subsampling_factor = 5\n",
    "depth_mask = False\n",
    "obj_level = False\n",
    "dataset_dir = '/home/ehajizad/datasets/rgbd-dataset'\n",
    "n_run = 10\n",
    "accs = np.zeros((10,1))\n",
    "for i in range(n_run):\n",
    "    seed = np.random.randint(1000)\n",
    "\n",
    "\n",
    "    ## Extract training features\n",
    "    train_ds = WRGBD(root_dir = dataset_dir, transform=transform, depth_mask = depth_mask, \n",
    "                     train_test_split='custom', subset='train',\n",
    "                     obj_level=obj_level, subsampling_factor=subsampling_factor, seed=seed)\n",
    "    embeddings = []\n",
    "    labels = []\n",
    "\n",
    "    feat_ext_dl = DataLoader(train_ds, batch_size=1, shuffle=False, num_workers=4)\n",
    "\n",
    "    with torch.no_grad():\n",
    "        for batch in feat_ext_dl:\n",
    "            image, label = batch \n",
    "            image, label = image.to(device), label.to(device)\n",
    "            emb = feat_ext(image).flatten(start_dim=1)\n",
    "            embeddings.append(emb)\n",
    "            labels.append(label)\n",
    "\n",
    "    embeddings = torch.cat(embeddings, 0)\n",
    "    embeddings = np.array(torch.Tensor.cpu(embeddings))\n",
    "\n",
    "    labels = torch.cat(labels)\n",
    "    labels = np.array(torch.Tensor.cpu(labels))\n",
    "\n",
    "    ## Extract test features\n",
    "\n",
    "    test_embeddings = []\n",
    "    test_labels = []\n",
    "\n",
    "    test_ds = WRGBD(root_dir = dataset_dir, transform=transform, depth_mask = depth_mask, \n",
    "                    train_test_split='custom', subset='test', \n",
    "                    obj_level=obj_level, subsampling_factor=subsampling_factor, seed=seed)\n",
    "\n",
    "    feat_ext_dl = DataLoader(test_ds, batch_size=1, shuffle=False, num_workers=4)\n",
    "\n",
    "    with torch.no_grad():\n",
    "        for batch in feat_ext_dl:\n",
    "            image, label = batch \n",
    "            image, label = image.to(device), label.to(device)\n",
    "            emb = feat_ext(image).flatten(start_dim=1)\n",
    "            test_embeddings.append(emb)\n",
    "            test_labels.append(label)\n",
    "\n",
    "    test_embeddings = torch.cat(test_embeddings, 0)\n",
    "    test_embeddings = np.array(torch.Tensor.cpu(test_embeddings))\n",
    "\n",
    "    test_labels = torch.cat(test_labels)\n",
    "    test_labels = np.array(torch.Tensor.cpu(test_labels))\n",
    "\n",
    "    X_train, X_test = embeddings.copy(), test_embeddings.copy()\n",
    "    y_train, y_test = labels.copy(), test_labels.copy()\n",
    "\n",
    "    ###----------------------------------------------------------###\n",
    "    ###-----Offline Object Identifiation Exepriment--------------###\n",
    "\n",
    "\n",
    "    clf = svm.LinearSVC(max_iter=5000)\n",
    "    clf.fit(X_train, y_train)\n",
    "\n",
    "    # y_pred_train=clf.predict(X_train)\n",
    "    y_pred_test=clf.predict(X_test)\n",
    "\n",
    "    # Model Accuracy: how often is the classifier correct?\n",
    "    # print(\"Train Accuracy:\",metrics.accuracy_score(y_train, y_pred_train))\n",
    "    acc = metrics.accuracy_score(y_test, y_pred_test)\n",
    "    accs[i] = acc\n",
    "    print(\"Test Accuracy:\", acc)"
   ]
  },
  {
   "cell_type": "code",
   "execution_count": 12,
   "id": "9671789b-b7da-47e7-8476-57fa6d0b65bb",
   "metadata": {},
   "outputs": [
    {
     "name": "stdout",
     "output_type": "stream",
     "text": [
      "Offline Object Categorization Exepriment accuracies: 79.3 ± 1.5\n"
     ]
    }
   ],
   "source": [
    "mean_acc = np.round(100*np.mean(accs),1)\n",
    "std_acc = np.round(100*np.std(accs),1)\n",
    "print(\"Offline Object Categorization Exepriment accuracies:\", str(mean_acc), u\"\\u00B1\", str(std_acc))\n"
   ]
  },
  {
   "cell_type": "code",
   "execution_count": null,
   "id": "254fe31a-3325-42d5-92f4-1b7a48f04813",
   "metadata": {},
   "outputs": [],
   "source": []
  }
 ],
 "metadata": {
  "kernelspec": {
   "display_name": "Python 3",
   "language": "python",
   "name": "python3"
  },
  "language_info": {
   "codemirror_mode": {
    "name": "ipython",
    "version": 3
   },
   "file_extension": ".py",
   "mimetype": "text/x-python",
   "name": "python",
   "nbconvert_exporter": "python",
   "pygments_lexer": "ipython3",
   "version": "3.8.10"
  }
 },
 "nbformat": 4,
 "nbformat_minor": 5
}
