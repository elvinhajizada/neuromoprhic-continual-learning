{
 "cells": [
  {
   "cell_type": "code",
   "execution_count": 1,
   "id": "a2203b53",
   "metadata": {},
   "outputs": [],
   "source": [
    "from sklearn.pipeline import make_pipeline\n",
    "from sklearn.preprocessing import StandardScaler\n",
    "from sklearn import svm\n",
    "from sklearn.utils import shuffle\n",
    "from sklearn.model_selection import train_test_split\n",
    "\n",
    "import numpy as np\n",
    "import pandas as pd\n",
    "%matplotlib notebook\n",
    "import importlib\n",
    "from matplotlib import pyplot as plt"
   ]
  },
  {
   "cell_type": "code",
   "execution_count": 2,
   "id": "077a0f89",
   "metadata": {},
   "outputs": [],
   "source": [
    "with open('C:/Users/ehajizad/lava-nc/neuromorphic-continual-learning/tutorials/coil20_labels.npy', 'rb') as f:\n",
    "    labels = np.load(f, allow_pickle=True)\n",
    "with open('C:/Users/ehajizad/lava-nc/neuromorphic-continual-learning/tutorials/strided_coil20.npy', 'rb') as f:\n",
    "    stride_filtered = np.load(f, allow_pickle=True)"
   ]
  },
  {
   "cell_type": "code",
   "execution_count": 3,
   "id": "489241af",
   "metadata": {},
   "outputs": [
    {
     "name": "stdout",
     "output_type": "stream",
     "text": [
      "(1440, 8, 441)\n",
      "(1440, 3528)\n"
     ]
    }
   ],
   "source": [
    "scaled_input = 100 * stride_filtered\n",
    "scaled_input = scaled_input.reshape((scaled_input.shape[0], stride_filtered.shape[1],-1))\n",
    "print(scaled_input.shape)\n",
    "flat_input=scaled_input.reshape((scaled_input.shape[0], -1))\n",
    "print(flat_input.shape)"
   ]
  },
  {
   "cell_type": "code",
   "execution_count": 4,
   "id": "916b8842",
   "metadata": {},
   "outputs": [
    {
     "name": "stdout",
     "output_type": "stream",
     "text": [
      "(1440, 9, 441)\n",
      "(1440, 3969)\n"
     ]
    }
   ],
   "source": [
    "# Bound the feature to the [0,200] range simulating the rate code range\n",
    "vmax=350\n",
    "vmin=30\n",
    "noise_max=100\n",
    "bounded = scaled_input.copy()\n",
    "bounded[bounded<vmin]=0  # below 10, no spike\n",
    "bounded[bounded>vmax]=vmax # above 200, rate code saturates\n",
    "\n",
    "# Calculate the noise value for each patch\n",
    "sum_per_patch = bounded.sum(1)\n",
    "noise = noise_max - sum_per_patch\n",
    "noise[noise<0]=0 # also bounded in the range of [0,200]\n",
    "\n",
    "# Append this noise feature to our feature vectors\n",
    "bounded=np.append(bounded, noise[:,np.newaxis, :], axis=1)\n",
    "print(bounded.shape) # new noise feature is now added\n",
    "\n",
    "flat_bounded=bounded.reshape((bounded.shape[0], bounded.shape[1]*bounded.shape[2]))\n",
    "print(flat_bounded.shape)"
   ]
  },
  {
   "cell_type": "code",
   "execution_count": 8,
   "id": "a3e541c5",
   "metadata": {},
   "outputs": [],
   "source": [
    "clf = make_pipeline(StandardScaler(), svm.LinearSVC(max_iter=500))\n",
    "# clf = svm.LinearSVC(max_iter=10000)\n",
    "X = flat_input\n",
    "y = labels\n",
    "X_train, X_test, y_train, y_test = train_test_split(X, y, test_size=0.3) # 70% training and 30% test\n"
   ]
  },
  {
   "cell_type": "code",
   "execution_count": 9,
   "id": "45c1feba",
   "metadata": {},
   "outputs": [
    {
     "name": "stderr",
     "output_type": "stream",
     "text": [
      "c:\\users\\ehajizad\\lava-nc\\venv\\lib\\site-packages\\sklearn\\svm\\_base.py:1206: ConvergenceWarning: Liblinear failed to converge, increase the number of iterations.\n",
      "  warnings.warn(\n"
     ]
    },
    {
     "data": {
      "text/plain": [
       "Pipeline(steps=[('standardscaler', StandardScaler()),\n",
       "                ('linearsvc', LinearSVC(max_iter=500))])"
      ]
     },
     "execution_count": 9,
     "metadata": {},
     "output_type": "execute_result"
    }
   ],
   "source": [
    "clf.fit(X_train, y_train)"
   ]
  },
  {
   "cell_type": "code",
   "execution_count": 10,
   "id": "ac62e076",
   "metadata": {},
   "outputs": [
    {
     "name": "stdout",
     "output_type": "stream",
     "text": [
      "Train Accuracy: 1.0\n",
      "Test Accuracy: 0.7916666666666666\n"
     ]
    }
   ],
   "source": [
    "#Import scikit-learn metrics module for accuracy calculation\n",
    "from sklearn import metrics\n",
    "\n",
    "y_pred_train=clf.predict(X_train)\n",
    "y_pred_test=clf.predict(X_test)\n",
    "\n",
    "# Model Accuracy: how often is the classifier correct?\n",
    "print(\"Train Accuracy:\",metrics.accuracy_score(y_train, y_pred_train))\n",
    "print(\"Test Accuracy:\",metrics.accuracy_score(y_test, y_pred_test))"
   ]
  },
  {
   "cell_type": "code",
   "execution_count": null,
   "id": "59a5e18c",
   "metadata": {},
   "outputs": [],
   "source": []
  }
 ],
 "metadata": {
  "kernelspec": {
   "display_name": "Python 3 (ipykernel)",
   "language": "python",
   "name": "python3"
  },
  "language_info": {
   "codemirror_mode": {
    "name": "ipython",
    "version": 3
   },
   "file_extension": ".py",
   "mimetype": "text/x-python",
   "name": "python",
   "nbconvert_exporter": "python",
   "pygments_lexer": "ipython3",
   "version": "3.8.8"
  }
 },
 "nbformat": 4,
 "nbformat_minor": 5
}
